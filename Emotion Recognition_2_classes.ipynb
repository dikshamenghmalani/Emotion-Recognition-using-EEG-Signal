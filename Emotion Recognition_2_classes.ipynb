{
 "cells": [
  {
   "cell_type": "markdown",
   "metadata": {},
   "source": [
    "Psycho-physiological research has shown that left and right frontal lobes have significant activity during the experience of emotions. The signals were selected from four positions Fp1(ch 1), Fp2(ch 17), F3(ch 3) and F4(ch20) only"
   ]
  },
  {
   "cell_type": "code",
   "execution_count": 3,
   "metadata": {},
   "outputs": [],
   "source": [
    "import pickle\n",
    "import os\n",
    "from matplotlib import pyplot as plt \n",
    "import numpy as np\n",
    "import mne\n",
    "import seaborn as sns\n",
    "from scipy.integrate import simps\n",
    "import pandas as pd\n",
    "from scipy import signal\n",
    "\n",
    "from sklearn.metrics import confusion_matrix\n",
    "from sklearn.model_selection import train_test_split\n",
    "from sklearn import svm, datasets\n",
    "from sklearn.neighbors import KNeighborsClassifier\n",
    "from sklearn.ensemble import RandomForestClassifier\n",
    "from sklearn import metrics\n",
    "from sklearn.metrics import classification_report, confusion_matrix, accuracy_score"
   ]
  },
  {
   "cell_type": "code",
   "execution_count": 4,
   "metadata": {},
   "outputs": [],
   "source": [
    "%matplotlib inline"
   ]
  },
  {
   "cell_type": "code",
   "execution_count": 5,
   "metadata": {},
   "outputs": [],
   "source": [
    "os.chdir(r\"C:\\Users\\Diksha Menghmalani\\Desktop\\BE Project\\Deap dataset\\data_preprocessed_python\") "
   ]
  },
  {
   "cell_type": "code",
   "execution_count": 6,
   "metadata": {},
   "outputs": [],
   "source": [
    "channels = [0,16,2,19]\n",
    "#channels = [0,2]\n",
    "#channels = [0,1,2,3,5,10,12,16,18,19,20,24,28,30]\n",
    "#channels = [i for i in range(32)]\n",
    "t_low , t_high = 4,  7\n",
    "a_low , a_high = 8,  13\n",
    "b_low , b_high = 13, 30\n",
    "g_low , g_high = 30, 40\n",
    "columns_feature_video = ['fp1_abs_t','fp1_abs_a','fp1_abs_b','fp1_abs_g',\n",
    "                          'fp1_mean_t','fp1_mean_a','fp1_mean_b','fp1_mean_g',\n",
    "                         'fp2_abs_t','fp2_abs_a','fp2_abs_b','fp2_abs_g',\n",
    "                          'fp2_mean_t','fp2_mean_a','fp2_mean_b','fp2_mean_g',\n",
    "                         'f3_abs_t','f3_abs_a','f3_abs_b','f3_abs_g',\n",
    "                          'f3_mean_t','f3_mean_a','f3_mean_b','f3_mean_g'\n",
    "                         'f4_abs_t','f4_abs_a','f4_abs_b','f4_abs_g',\n",
    "                          'f4_mean_t','f4_mean_a','f4_mean_b','f4_mean_g']"
   ]
  },
  {
   "cell_type": "code",
   "execution_count": 7,
   "metadata": {},
   "outputs": [],
   "source": [
    "subjects = ['01','02','03','04','05','06','07','08','09','10','11','12','13','14','15','16',\n",
    "            '17','18','19','20','21','22','23','24','25','26','27','28','29','30','31','32']"
   ]
  },
  {
   "cell_type": "code",
   "execution_count": 8,
   "metadata": {},
   "outputs": [],
   "source": [
    "for sub in subjects:\n",
    "    with open('s' + sub + '.dat', 'rb') as file:\n",
    "        \n",
    "        subject = pickle.load(file, encoding='latin1')\n",
    "        \n",
    "        data = np.array(subject['data'])\n",
    "        l = np.array(subject['labels'])\n",
    "        \n",
    "        for j in range(40):\n",
    "            feature_video = []\n",
    "        \n",
    "            for i in channels:\n",
    "                freqs, psd = signal.welch(data[0][i], fs= 128)\n",
    "        \n",
    "                idx_theta = np.logical_and(freqs >= t_low, freqs <= t_high)\n",
    "                idx_alpha = np.logical_and(freqs >= a_low, freqs <= a_high)\n",
    "                idx_beta = np.logical_and(freqs >= b_low, freqs <= b_high)\n",
    "                idx_gamma = np.logical_and(freqs >= g_low, freqs <= g_high)\n",
    "        \n",
    "                #Absolute Power\n",
    "                freq_res = freqs[1] - freqs[0]  \n",
    "                theta_power = simps(psd[idx_theta], dx=freq_res)\n",
    "                alpha_power = simps(psd[idx_alpha], dx=freq_res)\n",
    "                beta_power = simps(psd[idx_beta], dx=freq_res)\n",
    "                gamma_power = simps(psd[idx_gamma], dx=freq_res)\n",
    "        \n",
    "                #Mean Power\n",
    "        \n",
    "                t_mean = np.mean(psd[idx_theta])\n",
    "                a_mean = np.mean(psd[idx_alpha])\n",
    "                b_mean = np.mean(psd[idx_beta])\n",
    "                g_mean = np.mean(psd[idx_gamma])\n",
    "                \n",
    "                #Std Dev Power\n",
    "                \n",
    "                t_std = np.std(psd[idx_theta])\n",
    "                a_std = np.std(psd[idx_alpha])\n",
    "                b_std = np.std(psd[idx_beta])\n",
    "                g_std = np.std(psd[idx_gamma])\n",
    "                \n",
    "                \n",
    "                # theta_power,alpha_power,beta_power,gamma_power,t_std,a_std,b_std,g_std\n",
    "                f = [t_mean,a_mean,b_mean,g_mean]\n",
    "                \n",
    "                feature_video = np.array([np.append(feature_video,f)])\n",
    "                #psd_all_channels = np.array([np.append(psd_all_channels,psd)])\n",
    "                #print(psd_all_channels.shape)\n",
    "                \n",
    "            \n",
    "            if sub=='01' and j ==0:\n",
    "                features = feature_video\n",
    "                \n",
    "            else:\n",
    "                features = np.append(features,feature_video,axis=0)\n",
    "                \n",
    "        # 0 : Happy; 1: Relaxed ; 2: Angry; 3: Sad\n",
    "                \n",
    "        labels_val_video = np.array([-1 for i in range(40)])\n",
    "        labels_arousal_video = np.array([-1 for i in range(40)])\n",
    "        '''\n",
    "        for i in range(len(l)):\n",
    "            if l[i][0]>=5 and l[i][1]>=5:\n",
    "                labels_video[i] = 0\n",
    "            elif l[i][0]>=5 and l[i][1]<=5:\n",
    "                labels_video[i] = 1\n",
    "            elif l[i][0]<=5 and l[i][1]>=5:\n",
    "                labels_video[i] = 2\n",
    "            elif l[i][0]<=5 and l[i][1]<=5:\n",
    "                labels_video[i] = 3\n",
    "        '''\n",
    "        for i in range(len(l)):\n",
    "            if l[i][0]<=4.5:\n",
    "                labels_val_video[i] = 0\n",
    "            \n",
    "            #elif l[i][0]>=4 and l[i][0]<6 :\n",
    "             #   labels_val_video[i] = 1\n",
    "                \n",
    "            elif l[i][0]>= 4.5:\n",
    "                labels_val_video[i] = 2\n",
    "                \n",
    "        for i in range(len(l)):\n",
    "            if l[i][1]<=4.5:\n",
    "                labels_arousal_video[i] = 0\n",
    "        \n",
    "            #elif l[i][1]>=4 and l[i][1]<6 :\n",
    "             #   labels_val_video[i] = 1\n",
    "                \n",
    "            elif l[i][1]>=4.5 :\n",
    "                labels_val_video[i] = 2\n",
    "                \n",
    "        if sub == '01':\n",
    "            labels_val = labels_val_video\n",
    "            labels_arousal = labels_arousal_video\n",
    "        else:\n",
    "            labels_val = np.append(labels_val,labels_val_video)\n",
    "            labels_arousal = np.append(labels_arousal,labels_arousal_video)\n",
    "    "
   ]
  },
  {
   "cell_type": "code",
   "execution_count": 9,
   "metadata": {},
   "outputs": [
    {
     "data": {
      "text/plain": [
       "(1280, 16)"
      ]
     },
     "execution_count": 9,
     "metadata": {},
     "output_type": "execute_result"
    }
   ],
   "source": [
    "features.shape"
   ]
  },
  {
   "cell_type": "code",
   "execution_count": 10,
   "metadata": {},
   "outputs": [
    {
     "data": {
      "text/plain": [
       "(1280,)"
      ]
     },
     "execution_count": 10,
     "metadata": {},
     "output_type": "execute_result"
    }
   ],
   "source": [
    "labels_val.shape"
   ]
  },
  {
   "cell_type": "code",
   "execution_count": 11,
   "metadata": {},
   "outputs": [
    {
     "data": {
      "text/plain": [
       "(1280,)"
      ]
     },
     "execution_count": 11,
     "metadata": {},
     "output_type": "execute_result"
    }
   ],
   "source": [
    "labels_arousal.shape"
   ]
  },
  {
   "cell_type": "code",
   "execution_count": null,
   "metadata": {},
   "outputs": [],
   "source": []
  },
  {
   "cell_type": "markdown",
   "metadata": {},
   "source": [
    "df = pd.DataFrame(features)\n",
    "\n",
    "df.head()"
   ]
  },
  {
   "cell_type": "markdown",
   "metadata": {},
   "source": [
    "# Valence"
   ]
  },
  {
   "cell_type": "code",
   "execution_count": 12,
   "metadata": {},
   "outputs": [],
   "source": [
    "X = features\n",
    "y = labels_val"
   ]
  },
  {
   "cell_type": "code",
   "execution_count": 13,
   "metadata": {},
   "outputs": [],
   "source": [
    "X_train, X_test, y_train, y_test = train_test_split(X, y,test_size= 0.2,random_state= 4)"
   ]
  },
  {
   "cell_type": "code",
   "execution_count": 14,
   "metadata": {},
   "outputs": [
    {
     "data": {
      "text/plain": [
       "(1024, 16)"
      ]
     },
     "execution_count": 14,
     "metadata": {},
     "output_type": "execute_result"
    }
   ],
   "source": [
    "X_train.shape"
   ]
  },
  {
   "cell_type": "code",
   "execution_count": 15,
   "metadata": {},
   "outputs": [
    {
     "data": {
      "text/plain": [
       "(1024,)"
      ]
     },
     "execution_count": 15,
     "metadata": {},
     "output_type": "execute_result"
    }
   ],
   "source": [
    "y_train.shape"
   ]
  },
  {
   "cell_type": "code",
   "execution_count": 16,
   "metadata": {},
   "outputs": [
    {
     "name": "stdout",
     "output_type": "stream",
     "text": [
      "Accuracy for SVM Classifier:87.500 \n"
     ]
    }
   ],
   "source": [
    "poly = svm.SVC(kernel='poly', degree=5, C=1, decision_function_shape='ovo').fit(X_train, y_train)\n",
    "\n",
    "poly_pred = poly.predict(X_test)\n",
    "\n",
    "accuracy_poly = poly.score(X_test, y_test)\n",
    "print(\"Accuracy for SVM Classifier:%.3f \"% (accuracy_poly*100))"
   ]
  },
  {
   "cell_type": "code",
   "execution_count": 17,
   "metadata": {},
   "outputs": [
    {
     "name": "stdout",
     "output_type": "stream",
     "text": [
      "Accuracy for KNN Classifier: 83.984\n"
     ]
    }
   ],
   "source": [
    "\n",
    "knn_clf=KNeighborsClassifier()\n",
    "knn_clf.fit(X_train,y_train)\n",
    "\n",
    "ypred=knn_clf.predict(X_test)\n",
    "\n",
    "\n",
    "result = accuracy_score(y_test,ypred)\n",
    "print(\"Accuracy for KNN Classifier: %.3f\"%(result*100))"
   ]
  },
  {
   "cell_type": "code",
   "execution_count": 18,
   "metadata": {
    "scrolled": true
   },
   "outputs": [
    {
     "name": "stdout",
     "output_type": "stream",
     "text": [
      "Accuracy of Random Forest Classifier: 87.500\n"
     ]
    }
   ],
   "source": [
    "#Create a Gaussian Classifier\n",
    "clf=RandomForestClassifier(n_estimators=100)\n",
    "\n",
    "#Train the model using the training sets y_pred=clf.predict(X_test)\n",
    "clf.fit(X_train,y_train)\n",
    "\n",
    "y_pred=clf.predict(X_test)\n",
    "\n",
    "\n",
    "# Model Accuracy\n",
    "print('Accuracy of Random Forest Classifier: %.3f' %(metrics.accuracy_score(y_test, y_pred)*100))"
   ]
  },
  {
   "cell_type": "markdown",
   "metadata": {},
   "source": [
    "# AROUSAL"
   ]
  },
  {
   "cell_type": "code",
   "execution_count": 19,
   "metadata": {},
   "outputs": [],
   "source": [
    "X = features\n",
    "y = labels_arousal"
   ]
  },
  {
   "cell_type": "code",
   "execution_count": 20,
   "metadata": {},
   "outputs": [],
   "source": [
    "X_train, X_test, y_train, y_test = train_test_split(X, y,test_size= 0.2,random_state= 4)"
   ]
  },
  {
   "cell_type": "code",
   "execution_count": 25,
   "metadata": {},
   "outputs": [
    {
     "name": "stdout",
     "output_type": "stream",
     "text": [
      "Accuracy for SVM Classifier:65.234 \n"
     ]
    }
   ],
   "source": [
    "poly = svm.SVC(kernel='poly', C=1).fit(X_train, y_train)\n",
    "\n",
    "poly_pred = poly.predict(X_test)\n",
    "\n",
    "accuracy_poly = poly.score(X_test, y_test)\n",
    "print(\"Accuracy for SVM Classifier:%.3f \"% (accuracy_poly*100))"
   ]
  },
  {
   "cell_type": "code",
   "execution_count": 26,
   "metadata": {},
   "outputs": [
    {
     "name": "stdout",
     "output_type": "stream",
     "text": [
      "Accuracy for KNN Classifier: 63.672\n"
     ]
    }
   ],
   "source": [
    "\n",
    "knn_clf=KNeighborsClassifier()\n",
    "knn_clf.fit(X_train,y_train)\n",
    "\n",
    "ypred=knn_clf.predict(X_test)\n",
    "\n",
    "result = accuracy_score(y_test,ypred)\n",
    "print(\"Accuracy for KNN Classifier: %.3f\"%(result*100))"
   ]
  },
  {
   "cell_type": "code",
   "execution_count": 27,
   "metadata": {},
   "outputs": [
    {
     "name": "stdout",
     "output_type": "stream",
     "text": [
      "Accuracy of Random Forest Classifier: 62.500\n"
     ]
    }
   ],
   "source": [
    "\n",
    "#Create a Gaussian Classifier\n",
    "clf=RandomForestClassifier(n_estimators=100)\n",
    "\n",
    "#Train the model using the training sets y_pred=clf.predict(X_test)\n",
    "clf.fit(X_train,y_train)\n",
    "\n",
    "y_pred=clf.predict(X_test)\n",
    "\n",
    "\n",
    "# Model Accuracy\n",
    "print('Accuracy of Random Forest Classifier: %.3f' %(metrics.accuracy_score(y_test, y_pred)*100))"
   ]
  },
  {
   "cell_type": "code",
   "execution_count": null,
   "metadata": {},
   "outputs": [],
   "source": []
  },
  {
   "cell_type": "code",
   "execution_count": null,
   "metadata": {},
   "outputs": [],
   "source": []
  }
 ],
 "metadata": {
  "kernelspec": {
   "display_name": "Python 3",
   "language": "python",
   "name": "python3"
  },
  "language_info": {
   "codemirror_mode": {
    "name": "ipython",
    "version": 3
   },
   "file_extension": ".py",
   "mimetype": "text/x-python",
   "name": "python",
   "nbconvert_exporter": "python",
   "pygments_lexer": "ipython3",
   "version": "3.8.3"
  }
 },
 "nbformat": 4,
 "nbformat_minor": 4
}
