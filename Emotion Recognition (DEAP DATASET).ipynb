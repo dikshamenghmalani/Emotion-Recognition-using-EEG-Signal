{
 "cells": [
  {
   "cell_type": "markdown",
   "metadata": {},
   "source": [
    "Psycho-physiological research has shown that left and right frontal lobes have significant activity during the experience of emotions. The signals were selected from four positions Fp1(ch 1), Fp2(ch 17), F3(ch 3) and F4(ch20) only"
   ]
  },
  {
   "cell_type": "code",
   "execution_count": null,
   "metadata": {},
   "outputs": [],
   "source": [
    "import pickle\n",
    "import os\n",
    "from matplotlib import pyplot as plt \n",
    "import numpy as np\n",
    "import mne\n",
    "import seaborn as sns\n",
    "from scipy.integrate import simps\n",
    "import pandas as pd\n",
    "from scipy import signal"
   ]
  },
  {
   "cell_type": "code",
   "execution_count": null,
   "metadata": {},
   "outputs": [],
   "source": [
    "%matplotlib inline"
   ]
  },
  {
   "cell_type": "code",
   "execution_count": null,
   "metadata": {},
   "outputs": [],
   "source": [
    "os.chdir(r\"C:\\Users\\Diksha Menghmalani\\Desktop\\BE Project\\Deap dataset\\data_preprocessed_python\") "
   ]
  },
  {
   "cell_type": "code",
   "execution_count": null,
   "metadata": {},
   "outputs": [],
   "source": [
    "subjects = ['01','02','03','04','05','06','07','08','09','10','11','12','13','14','15','16',\n",
    "            '17','18','19','20','21','22','23','24','25','26','27','28','29','30','31','32']"
   ]
  },
  {
   "cell_type": "markdown",
   "metadata": {},
   "source": [
    " for sub in subjects:\n",
    "    with open('s' + sub + '.dat', 'rb') as file:\n",
    "\n",
    "        subject = pickle.load(file, encoding='latin1')"
   ]
  },
  {
   "cell_type": "code",
   "execution_count": null,
   "metadata": {},
   "outputs": [],
   "source": [
    "with open('s01.dat','rb') as file:\n",
    "    subject = pickle.load(file, encoding='latin1')"
   ]
  },
  {
   "cell_type": "code",
   "execution_count": null,
   "metadata": {},
   "outputs": [],
   "source": [
    "print(subject.keys())"
   ]
  },
  {
   "cell_type": "code",
   "execution_count": null,
   "metadata": {
    "scrolled": true
   },
   "outputs": [],
   "source": [
    "subject['data'].shape"
   ]
  },
  {
   "cell_type": "code",
   "execution_count": null,
   "metadata": {
    "scrolled": true
   },
   "outputs": [],
   "source": [
    "subject['data'][1].shape"
   ]
  },
  {
   "cell_type": "code",
   "execution_count": null,
   "metadata": {},
   "outputs": [],
   "source": [
    "#(valence, arousal, dominance, liking)\n",
    "subject['labels'].shape"
   ]
  },
  {
   "cell_type": "code",
   "execution_count": null,
   "metadata": {},
   "outputs": [],
   "source": [
    "subject['labels'][0]"
   ]
  },
  {
   "cell_type": "code",
   "execution_count": null,
   "metadata": {},
   "outputs": [],
   "source": []
  },
  {
   "cell_type": "code",
   "execution_count": null,
   "metadata": {},
   "outputs": [],
   "source": [
    "plt.plot(subject['data'][0][1])"
   ]
  },
  {
   "cell_type": "code",
   "execution_count": null,
   "metadata": {},
   "outputs": [],
   "source": [
    "data = np.array(subject['data'])\n",
    "l = np.array(subject['labels'])"
   ]
  },
  {
   "cell_type": "code",
   "execution_count": null,
   "metadata": {},
   "outputs": [],
   "source": [
    "l"
   ]
  },
  {
   "cell_type": "code",
   "execution_count": null,
   "metadata": {},
   "outputs": [],
   "source": [
    "'''\n",
    "0 : Happy\n",
    "1: Relaxed\n",
    "2: Angry\n",
    "3: Sad\n",
    "'''\n",
    "\n",
    "labels = np.array([-1 for i in range(40)])\n",
    "'''\n",
    "for i in range(len(l)):\n",
    "    if l[i][0]>=5 and l[i][1]>=5:\n",
    "        labels[i] = 0\n",
    "    elif l[i][0]>=5 and l[i][1]<=5:\n",
    "        labels[i] = 1\n",
    "    elif l[i][0]<=5 and l[i][1]>=5:\n",
    "        labels[i] = 2\n",
    "    elif l[i][0]<=5 and l[i][1]<=5:\n",
    "        labels[i] = 3\n",
    " '''       \n",
    "for i in range(len(l)):\n",
    "    if l[i][0]>=5:\n",
    "        labels[i] = 0\n",
    "    \n",
    "    elif l[i][0]<=5 :\n",
    "        labels[i] = 2\n",
    "    "
   ]
  },
  {
   "cell_type": "code",
   "execution_count": null,
   "metadata": {},
   "outputs": [],
   "source": [
    "data[0].shape"
   ]
  },
  {
   "cell_type": "code",
   "execution_count": null,
   "metadata": {
    "scrolled": true
   },
   "outputs": [],
   "source": [
    "p1,freq1 = plt.psd(subject['data'][0][1] , Fs = 128)"
   ]
  },
  {
   "cell_type": "code",
   "execution_count": null,
   "metadata": {},
   "outputs": [],
   "source": [
    "p1.shape"
   ]
  },
  {
   "cell_type": "code",
   "execution_count": null,
   "metadata": {
    "scrolled": true
   },
   "outputs": [],
   "source": [
    "freq1.shape"
   ]
  },
  {
   "cell_type": "code",
   "execution_count": null,
   "metadata": {
    "scrolled": true
   },
   "outputs": [],
   "source": [
    "for i in range(32):\n",
    "    p,freq = plt.psd(subject['data'][6][i] , Fs = 128)"
   ]
  },
  {
   "cell_type": "code",
   "execution_count": null,
   "metadata": {
    "scrolled": true
   },
   "outputs": [],
   "source": [
    "m= np.mean(p)\n",
    "print(m)"
   ]
  },
  {
   "cell_type": "code",
   "execution_count": null,
   "metadata": {},
   "outputs": [],
   "source": [
    "np.mean(p)"
   ]
  },
  {
   "cell_type": "code",
   "execution_count": null,
   "metadata": {},
   "outputs": [],
   "source": [
    "p[1]"
   ]
  },
  {
   "cell_type": "code",
   "execution_count": null,
   "metadata": {},
   "outputs": [],
   "source": [
    "P = np.array([])\n",
    "\n",
    "for i in range(32):\n",
    "    freqs, psd = signal.welch(data[0][i], fs= 128)\n",
    "    P = np.append(P,psd)\n",
    "    plt.semilogy(freqs, psd)\n",
    "plt.xlabel('frequency [Hz]')\n",
    "plt.ylabel('Power spectral density (uV^2 / Hz)')\n",
    "plt.show()"
   ]
  },
  {
   "cell_type": "code",
   "execution_count": null,
   "metadata": {},
   "outputs": [],
   "source": [
    "P.shape"
   ]
  },
  {
   "cell_type": "code",
   "execution_count": null,
   "metadata": {},
   "outputs": [],
   "source": [
    "freqs, psd = signal.welch(data[21][8], fs= 128)\n",
    "plt.semilogy(freqs, psd)\n",
    "\n",
    "plt.xlabel('Frequency (Hz)')\n",
    "plt.ylabel('Power spectral density (uV^2 / Hz)')\n",
    "plt.title('')"
   ]
  },
  {
   "cell_type": "code",
   "execution_count": null,
   "metadata": {},
   "outputs": [],
   "source": [
    "#Define lower and higher frequencies for theta\n",
    "low, high = 4, 7\n",
    "\n",
    "# Find intersecting values in frequency vector\n",
    "idx_theta = np.logical_and(freqs >= low, freqs <= high)\n",
    "\n",
    "# Plot the power spectral density and fill the delta area\n",
    "plt.figure(figsize=(7, 4))\n",
    "plt.semilogy(freqs, psd)\n",
    "plt.fill_between(freqs, psd, where=idx_theta, color='skyblue')\n",
    "plt.xlabel('Frequency (Hz)')\n",
    "plt.ylabel('Power spectral density (uV^2 / Hz)')\n",
    "plt.xlim([0, 10])\n",
    "plt.title('Theta Frequencies 04 Hz - 07 Hz')\n",
    "sns.despine()"
   ]
  },
  {
   "cell_type": "code",
   "execution_count": null,
   "metadata": {},
   "outputs": [],
   "source": [
    "#Define lower and higher frequencies for alpha\n",
    "low, high = 8, 13\n",
    "\n",
    "# Find intersecting values in frequency vector\n",
    "idx_alpha = np.logical_and(freqs >= low, freqs <= high)\n",
    "\n",
    "# Plot the power spectral density and fill the delta area\n",
    "plt.figure(figsize=(7, 4))\n",
    "plt.semilogy(freqs, psd)\n",
    "plt.fill_between(freqs, psd, where=idx_alpha, color='skyblue')\n",
    "plt.xlabel('Frequency (Hz)')\n",
    "plt.ylabel('Power spectral density (uV^2 / Hz)')\n",
    "plt.xlim([5, 15])\n",
    "plt.title('Alpha Frequencies 08 Hz - 13 Hz')\n",
    "sns.despine()"
   ]
  },
  {
   "cell_type": "code",
   "execution_count": null,
   "metadata": {},
   "outputs": [],
   "source": [
    "#Define lower and higher frequencies for beta\n",
    "low, high = 13, 30\n",
    "\n",
    "# Find intersecting values in frequency vector\n",
    "idx_beta = np.logical_and(freqs >= low, freqs <= high)\n",
    "\n",
    "# Plot the power spectral density and fill the delta area\n",
    "plt.figure(figsize=(7, 4))\n",
    "plt.semilogy(freqs, psd)\n",
    "plt.fill_between(freqs, psd, where=idx_beta, color='skyblue')\n",
    "plt.xlabel('Frequency (Hz)')\n",
    "plt.ylabel('Power spectral density (uV^2 / Hz)')\n",
    "plt.xlim([10, 40])\n",
    "plt.title('Beta Frequencies 13Hz - 30Hz ')\n",
    "sns.despine()"
   ]
  },
  {
   "cell_type": "code",
   "execution_count": null,
   "metadata": {},
   "outputs": [],
   "source": [
    "#Define lower and higher frequencies for theta\n",
    "low, high = 30, 40\n",
    "\n",
    "# Find intersecting values in frequency vector\n",
    "idx_gamma = np.logical_and(freqs >= low, freqs <= high)\n",
    "\n",
    "# Plot the power spectral density and fill the delta area\n",
    "plt.figure(figsize=(7, 4))\n",
    "plt.semilogy(freqs, psd)\n",
    "plt.fill_between(freqs, psd, where=idx_gamma, color='skyblue')\n",
    "plt.xlabel('Frequency (Hz)')\n",
    "plt.ylabel('Power spectral density (uV^2 / Hz)')\n",
    "plt.xlim([25, 45])\n",
    "plt.title('Gamma Frequencies 30Hz - 40 Hz')\n",
    "sns.despine()"
   ]
  },
  {
   "cell_type": "code",
   "execution_count": null,
   "metadata": {},
   "outputs": [],
   "source": [
    "def find_absolute_power():\n",
    "    # Frequency resolution\n",
    "    freq_res = freqs[1] - freqs[0]  \n",
    "\n",
    "    print('For participant 1, trial 1, channel 1\\n')\n",
    "\n",
    "    # Compute the absolute power by approximating the area under the curve\n",
    "    theta_power = simps(psd[idx_theta], dx=freq_res)\n",
    "    alpha_power = simps(psd[idx_alpha], dx=freq_res)\n",
    "    beta_power = simps(psd[idx_beta], dx=freq_res)\n",
    "    gamma_power = simps(psd[idx_gamma], dx=freq_res)\n",
    "    return theta_power , alpha_power, beta_power,gamma_power\n",
    "    \n",
    "def find_relative_power(theta_power, alpha_power, beta_power,gamma_power):\n",
    "    freq_res = freqs[1] - freqs[0]  \n",
    "    total_power = simps(psd, dx=freq_res)\n",
    "    theta_rel_power = theta_power / total_power\n",
    "    alpha_rel_power = alpha_power / total_power\n",
    "    beta_rel_power = beta_power / total_power\n",
    "    gamma_rel_power = gamma_power / total_power\n",
    "    print('Total power: %.3f' %total_power)\n",
    "    print('For participant 1, trial 1, channel 1\\n')\n",
    "    print('Relative theta power: %.3f uV^2' % theta_rel_power)\n",
    "    print('Relative alpha power: %.3f uV^2' % alpha_rel_power)\n",
    "    print('Relative beta power: %.3f uV^2' % theta_rel_power)\n",
    "    print('Relative gamma power: %.3f uV^2' % gamma_rel_power)\n",
    "    "
   ]
  },
  {
   "cell_type": "code",
   "execution_count": null,
   "metadata": {},
   "outputs": [],
   "source": [
    "theta_power, alpha_power, beta_power,gamma_power = find_absolute_power()\n",
    "print('Absolute theta power: %.3f uV^2' % theta_power)\n",
    "print('Absolute alpha power: %.3f uV^2' % alpha_power)\n",
    "print('Absolute beta power : %.3f uV^2' % beta_power)\n",
    "print('Absolute gamma power: %.3f uV^2' % gamma_power)"
   ]
  },
  {
   "cell_type": "code",
   "execution_count": null,
   "metadata": {},
   "outputs": [],
   "source": [
    "find_relative_power(theta_power, alpha_power, beta_power,gamma_power)"
   ]
  },
  {
   "cell_type": "code",
   "execution_count": null,
   "metadata": {},
   "outputs": [],
   "source": [
    "theta = np.array(np.extract(idx_theta,psd))\n",
    "alpha = np.array(np.extract(idx_alpha,psd))\n",
    "beta = np.array(np.extract(idx_beta,psd))\n",
    "gamma = np.array(np.extract(idx_gamma,psd))"
   ]
  },
  {
   "cell_type": "code",
   "execution_count": null,
   "metadata": {},
   "outputs": [],
   "source": [
    "alpha.shape"
   ]
  },
  {
   "cell_type": "code",
   "execution_count": null,
   "metadata": {},
   "outputs": [],
   "source": [
    "theta.shape"
   ]
  },
  {
   "cell_type": "code",
   "execution_count": null,
   "metadata": {},
   "outputs": [],
   "source": [
    "beta.shape"
   ]
  },
  {
   "cell_type": "code",
   "execution_count": null,
   "metadata": {
    "scrolled": true
   },
   "outputs": [],
   "source": [
    "gamma.shape"
   ]
  },
  {
   "cell_type": "code",
   "execution_count": null,
   "metadata": {},
   "outputs": [],
   "source": [
    "videos = 40"
   ]
  },
  {
   "cell_type": "code",
   "execution_count": 36,
   "metadata": {},
   "outputs": [],
   "source": [
    "channels = [0,16,2,19]\n",
    "#channels = [0,2]\n",
    "#channels = [0,1,2,3,5,10,12,16,18,19,20,24,28,30]\n",
    "\n",
    "t_low , t_high = 4,  7\n",
    "a_low , a_high = 8,  13\n",
    "b_low , b_high = 13, 30\n",
    "g_low , g_high = 30, 40\n",
    "columns_feature_video = ['fp1_abs_t','fp1_abs_a','fp1_abs_b','fp1_abs_g',\n",
    "                          'fp1_mean_t','fp1_mean_a','fp1_mean_b','fp1_mean_g',\n",
    "                         'fp2_abs_t','fp2_abs_a','fp2_abs_b','fp2_abs_g',\n",
    "                          'fp2_mean_t','fp2_mean_a','fp2_mean_b','fp2_mean_g',\n",
    "                         'f3_abs_t','f3_abs_a','f3_abs_b','f3_abs_g',\n",
    "                          'f3_mean_t','f3_mean_a','f3_mean_b','f3_mean_g'\n",
    "                         'f4_abs_t','f4_abs_a','f4_abs_b','f4_abs_g',\n",
    "                          'f4_mean_t','f4_mean_a','f4_mean_b','f4_mean_g']"
   ]
  },
  {
   "cell_type": "code",
   "execution_count": 84,
   "metadata": {},
   "outputs": [],
   "source": [
    "subjects = ['01','02','03','04','05','06','07','08','09','10','11','12','13','14','15','16',\n",
    "            '17','18','19','20','21','22','23','24','25','26','27','28','29','30','31','32']"
   ]
  },
  {
   "cell_type": "code",
   "execution_count": 85,
   "metadata": {},
   "outputs": [],
   "source": [
    "#subjects = ['01','02','03','04','05','06','07','08','09','10']"
   ]
  },
  {
   "cell_type": "code",
   "execution_count": 86,
   "metadata": {},
   "outputs": [],
   "source": [
    "#subjects = ['01']"
   ]
  },
  {
   "cell_type": "code",
   "execution_count": 93,
   "metadata": {},
   "outputs": [],
   "source": [
    "for sub in subjects:\n",
    "    with open('s' + sub + '.dat', 'rb') as file:\n",
    "        \n",
    "        subject = pickle.load(file, encoding='latin1')\n",
    "        \n",
    "        data = np.array(subject['data'])\n",
    "        l = np.array(subject['labels'])\n",
    "        \n",
    "        for j in range(40):\n",
    "            feature_video = []\n",
    "        \n",
    "            for i in channels:\n",
    "                freqs, psd = signal.welch(data[0][i], fs= 128)\n",
    "        \n",
    "                idx_theta = np.logical_and(freqs >= t_low, freqs <= t_high)\n",
    "                idx_alpha = np.logical_and(freqs >= a_low, freqs <= a_high)\n",
    "                idx_beta = np.logical_and(freqs >= b_low, freqs <= b_high)\n",
    "                idx_gamma = np.logical_and(freqs >= g_low, freqs <= g_high)\n",
    "        \n",
    "                #Absolute Power\n",
    "                freq_res = freqs[1] - freqs[0]  \n",
    "                theta_power = simps(psd[idx_theta], dx=freq_res)\n",
    "                alpha_power = simps(psd[idx_alpha], dx=freq_res)\n",
    "                beta_power = simps(psd[idx_beta], dx=freq_res)\n",
    "                gamma_power = simps(psd[idx_gamma], dx=freq_res)\n",
    "        \n",
    "                #Mean Power\n",
    "        \n",
    "                t_mean = np.mean(psd[idx_theta])\n",
    "                a_mean = np.mean(psd[idx_alpha])\n",
    "                b_mean = np.mean(psd[idx_beta])\n",
    "                g_mean = np.mean(psd[idx_gamma])\n",
    "                \n",
    "                #Std Dev Power\n",
    "                \n",
    "                t_std = np.std(psd[idx_theta])\n",
    "                a_std = np.std(psd[idx_alpha])\n",
    "                b_std = np.std(psd[idx_beta])\n",
    "                g_std = np.std(psd[idx_gamma])\n",
    "                \n",
    "                \n",
    "                # theta_power,alpha_power,beta_power,gamma_power,t_std,a_std,b_std,g_std\n",
    "                f = [t_mean,a_mean,b_mean,g_mean]\n",
    "                \n",
    "                feature_video = np.array([np.append(feature_video,f)])\n",
    "                #psd_all_channels = np.array([np.append(psd_all_channels,psd)])\n",
    "                #print(psd_all_channels.shape)\n",
    "                \n",
    "            \n",
    "            if sub=='01' and j ==0:\n",
    "                features = feature_video\n",
    "                \n",
    "            else:\n",
    "                features = np.append(features,feature_video,axis=0)\n",
    "                \n",
    "        # 0 : Happy; 1: Relaxed ; 2: Angry; 3: Sad\n",
    "                \n",
    "        labels_video = np.array([-1 for i in range(40)])\n",
    "        '''\n",
    "        for i in range(len(l)):\n",
    "            if l[i][0]>=5 and l[i][1]>=5:\n",
    "                labels_video[i] = 0\n",
    "            elif l[i][0]>=5 and l[i][1]<=5:\n",
    "                labels_video[i] = 1\n",
    "            elif l[i][0]<=5 and l[i][1]>=5:\n",
    "                labels_video[i] = 2\n",
    "            elif l[i][0]<=5 and l[i][1]<=5:\n",
    "                labels_video[i] = 3\n",
    "        '''\n",
    "        for i in range(len(l)):\n",
    "            if l[i][0]>=5:\n",
    "                labels_video[i] = 0\n",
    "        \n",
    "            elif l[i][0]<=5 :\n",
    "                labels_video[i] = 1\n",
    "    \n",
    "        if sub == '01':\n",
    "            labels = labels_video\n",
    "        else:\n",
    "            labels = np.append(labels,labels_video)\n",
    "    "
   ]
  },
  {
   "cell_type": "code",
   "execution_count": 94,
   "metadata": {},
   "outputs": [
    {
     "data": {
      "text/plain": [
       "(1280, 16)"
      ]
     },
     "execution_count": 94,
     "metadata": {},
     "output_type": "execute_result"
    }
   ],
   "source": [
    "features.shape"
   ]
  },
  {
   "cell_type": "code",
   "execution_count": 95,
   "metadata": {},
   "outputs": [
    {
     "data": {
      "text/plain": [
       "(1280,)"
      ]
     },
     "execution_count": 95,
     "metadata": {},
     "output_type": "execute_result"
    }
   ],
   "source": [
    "labels.shape"
   ]
  },
  {
   "cell_type": "code",
   "execution_count": 96,
   "metadata": {},
   "outputs": [
    {
     "data": {
      "text/plain": [
       "array([0, 0, 0, 0, 0, 0, 1, 0, 0, 1, 0, 0, 0, 0, 0, 0, 0, 0, 0, 0, 1, 0,\n",
       "       1, 0, 0, 0, 1, 1, 1, 1, 1, 1, 0, 1, 1, 0, 1, 1, 1, 0])"
      ]
     },
     "execution_count": 96,
     "metadata": {},
     "output_type": "execute_result"
    }
   ],
   "source": [
    "labels[40:80]"
   ]
  },
  {
   "cell_type": "code",
   "execution_count": 97,
   "metadata": {},
   "outputs": [],
   "source": [
    "df = pd.DataFrame(features)\n",
    "\n",
    "#df.rename( {'0':'fp1_abs_t'},inplace = True, axis = 'columns')"
   ]
  },
  {
   "cell_type": "code",
   "execution_count": 98,
   "metadata": {},
   "outputs": [
    {
     "data": {
      "text/html": [
       "<div>\n",
       "<style scoped>\n",
       "    .dataframe tbody tr th:only-of-type {\n",
       "        vertical-align: middle;\n",
       "    }\n",
       "\n",
       "    .dataframe tbody tr th {\n",
       "        vertical-align: top;\n",
       "    }\n",
       "\n",
       "    .dataframe thead th {\n",
       "        text-align: right;\n",
       "    }\n",
       "</style>\n",
       "<table border=\"1\" class=\"dataframe\">\n",
       "  <thead>\n",
       "    <tr style=\"text-align: right;\">\n",
       "      <th></th>\n",
       "      <th>0</th>\n",
       "      <th>1</th>\n",
       "      <th>2</th>\n",
       "      <th>3</th>\n",
       "      <th>4</th>\n",
       "      <th>5</th>\n",
       "      <th>6</th>\n",
       "      <th>7</th>\n",
       "      <th>8</th>\n",
       "      <th>9</th>\n",
       "      <th>10</th>\n",
       "      <th>11</th>\n",
       "      <th>12</th>\n",
       "      <th>13</th>\n",
       "      <th>14</th>\n",
       "      <th>15</th>\n",
       "    </tr>\n",
       "  </thead>\n",
       "  <tbody>\n",
       "    <tr>\n",
       "      <th>0</th>\n",
       "      <td>1.075119</td>\n",
       "      <td>0.837293</td>\n",
       "      <td>0.342387</td>\n",
       "      <td>0.057287</td>\n",
       "      <td>1.997635</td>\n",
       "      <td>1.01244</td>\n",
       "      <td>0.361016</td>\n",
       "      <td>0.065028</td>\n",
       "      <td>1.671945</td>\n",
       "      <td>1.023746</td>\n",
       "      <td>0.415846</td>\n",
       "      <td>0.06014</td>\n",
       "      <td>2.108097</td>\n",
       "      <td>1.089672</td>\n",
       "      <td>0.379527</td>\n",
       "      <td>0.057689</td>\n",
       "    </tr>\n",
       "    <tr>\n",
       "      <th>1</th>\n",
       "      <td>1.075119</td>\n",
       "      <td>0.837293</td>\n",
       "      <td>0.342387</td>\n",
       "      <td>0.057287</td>\n",
       "      <td>1.997635</td>\n",
       "      <td>1.01244</td>\n",
       "      <td>0.361016</td>\n",
       "      <td>0.065028</td>\n",
       "      <td>1.671945</td>\n",
       "      <td>1.023746</td>\n",
       "      <td>0.415846</td>\n",
       "      <td>0.06014</td>\n",
       "      <td>2.108097</td>\n",
       "      <td>1.089672</td>\n",
       "      <td>0.379527</td>\n",
       "      <td>0.057689</td>\n",
       "    </tr>\n",
       "    <tr>\n",
       "      <th>2</th>\n",
       "      <td>1.075119</td>\n",
       "      <td>0.837293</td>\n",
       "      <td>0.342387</td>\n",
       "      <td>0.057287</td>\n",
       "      <td>1.997635</td>\n",
       "      <td>1.01244</td>\n",
       "      <td>0.361016</td>\n",
       "      <td>0.065028</td>\n",
       "      <td>1.671945</td>\n",
       "      <td>1.023746</td>\n",
       "      <td>0.415846</td>\n",
       "      <td>0.06014</td>\n",
       "      <td>2.108097</td>\n",
       "      <td>1.089672</td>\n",
       "      <td>0.379527</td>\n",
       "      <td>0.057689</td>\n",
       "    </tr>\n",
       "    <tr>\n",
       "      <th>3</th>\n",
       "      <td>1.075119</td>\n",
       "      <td>0.837293</td>\n",
       "      <td>0.342387</td>\n",
       "      <td>0.057287</td>\n",
       "      <td>1.997635</td>\n",
       "      <td>1.01244</td>\n",
       "      <td>0.361016</td>\n",
       "      <td>0.065028</td>\n",
       "      <td>1.671945</td>\n",
       "      <td>1.023746</td>\n",
       "      <td>0.415846</td>\n",
       "      <td>0.06014</td>\n",
       "      <td>2.108097</td>\n",
       "      <td>1.089672</td>\n",
       "      <td>0.379527</td>\n",
       "      <td>0.057689</td>\n",
       "    </tr>\n",
       "    <tr>\n",
       "      <th>4</th>\n",
       "      <td>1.075119</td>\n",
       "      <td>0.837293</td>\n",
       "      <td>0.342387</td>\n",
       "      <td>0.057287</td>\n",
       "      <td>1.997635</td>\n",
       "      <td>1.01244</td>\n",
       "      <td>0.361016</td>\n",
       "      <td>0.065028</td>\n",
       "      <td>1.671945</td>\n",
       "      <td>1.023746</td>\n",
       "      <td>0.415846</td>\n",
       "      <td>0.06014</td>\n",
       "      <td>2.108097</td>\n",
       "      <td>1.089672</td>\n",
       "      <td>0.379527</td>\n",
       "      <td>0.057689</td>\n",
       "    </tr>\n",
       "  </tbody>\n",
       "</table>\n",
       "</div>"
      ],
      "text/plain": [
       "          0         1         2         3         4        5         6  \\\n",
       "0  1.075119  0.837293  0.342387  0.057287  1.997635  1.01244  0.361016   \n",
       "1  1.075119  0.837293  0.342387  0.057287  1.997635  1.01244  0.361016   \n",
       "2  1.075119  0.837293  0.342387  0.057287  1.997635  1.01244  0.361016   \n",
       "3  1.075119  0.837293  0.342387  0.057287  1.997635  1.01244  0.361016   \n",
       "4  1.075119  0.837293  0.342387  0.057287  1.997635  1.01244  0.361016   \n",
       "\n",
       "          7         8         9        10       11        12        13  \\\n",
       "0  0.065028  1.671945  1.023746  0.415846  0.06014  2.108097  1.089672   \n",
       "1  0.065028  1.671945  1.023746  0.415846  0.06014  2.108097  1.089672   \n",
       "2  0.065028  1.671945  1.023746  0.415846  0.06014  2.108097  1.089672   \n",
       "3  0.065028  1.671945  1.023746  0.415846  0.06014  2.108097  1.089672   \n",
       "4  0.065028  1.671945  1.023746  0.415846  0.06014  2.108097  1.089672   \n",
       "\n",
       "         14        15  \n",
       "0  0.379527  0.057689  \n",
       "1  0.379527  0.057689  \n",
       "2  0.379527  0.057689  \n",
       "3  0.379527  0.057689  \n",
       "4  0.379527  0.057689  "
      ]
     },
     "execution_count": 98,
     "metadata": {},
     "output_type": "execute_result"
    }
   ],
   "source": [
    "df.head()"
   ]
  },
  {
   "cell_type": "code",
   "execution_count": 99,
   "metadata": {},
   "outputs": [],
   "source": [
    "X = features\n",
    "y = labels"
   ]
  },
  {
   "cell_type": "code",
   "execution_count": 100,
   "metadata": {},
   "outputs": [],
   "source": [
    "from sklearn.metrics import confusion_matrix\n",
    "from sklearn.model_selection import train_test_split\n",
    "from sklearn import svm, datasets"
   ]
  },
  {
   "cell_type": "code",
   "execution_count": 101,
   "metadata": {},
   "outputs": [],
   "source": [
    "X_train, X_test, y_train, y_test = train_test_split(X, y,test_size= 0.2,random_state= 1)"
   ]
  },
  {
   "cell_type": "code",
   "execution_count": 102,
   "metadata": {},
   "outputs": [
    {
     "data": {
      "text/plain": [
       "(1024, 16)"
      ]
     },
     "execution_count": 102,
     "metadata": {},
     "output_type": "execute_result"
    }
   ],
   "source": [
    "X_train.shape"
   ]
  },
  {
   "cell_type": "code",
   "execution_count": 103,
   "metadata": {},
   "outputs": [
    {
     "data": {
      "text/plain": [
       "(1024,)"
      ]
     },
     "execution_count": 103,
     "metadata": {},
     "output_type": "execute_result"
    }
   ],
   "source": [
    "y_train.shape"
   ]
  },
  {
   "cell_type": "code",
   "execution_count": 104,
   "metadata": {},
   "outputs": [
    {
     "name": "stdout",
     "output_type": "stream",
     "text": [
      "Accuracy for SVM Classifier:58.203 \n"
     ]
    }
   ],
   "source": [
    "poly = svm.SVC(kernel='poly', degree=3, C=1).fit(X_train, y_train)\n",
    "\n",
    "poly_pred = poly.predict(X_test)\n",
    "\n",
    "accuracy_poly = poly.score(X_test, y_test)\n",
    "print(\"Accuracy for SVM Classifier:%.3f \"% (accuracy_poly*100))"
   ]
  },
  {
   "cell_type": "code",
   "execution_count": 105,
   "metadata": {},
   "outputs": [
    {
     "name": "stdout",
     "output_type": "stream",
     "text": [
      "Accuracy for KNN Classifier: 51.953\n"
     ]
    }
   ],
   "source": [
    "from sklearn.neighbors import KNeighborsClassifier\n",
    "knn_clf=KNeighborsClassifier()\n",
    "knn_clf.fit(X_train,y_train)\n",
    "\n",
    "ypred=knn_clf.predict(X_test)\n",
    "\n",
    "from sklearn.metrics import classification_report, confusion_matrix, accuracy_score\n",
    "result = accuracy_score(y_test,ypred)\n",
    "print(\"Accuracy for KNN Classifier: %.3f\"%(result*100))"
   ]
  },
  {
   "cell_type": "code",
   "execution_count": 106,
   "metadata": {},
   "outputs": [
    {
     "name": "stdout",
     "output_type": "stream",
     "text": [
      "Accuracy of Random Forest Classifier: 54.297\n"
     ]
    }
   ],
   "source": [
    "from sklearn.ensemble import RandomForestClassifier\n",
    "\n",
    "#Create a Gaussian Classifier\n",
    "clf=RandomForestClassifier(n_estimators=100)\n",
    "\n",
    "#Train the model using the training sets y_pred=clf.predict(X_test)\n",
    "clf.fit(X_train,y_train)\n",
    "\n",
    "y_pred=clf.predict(X_test)\n",
    "\n",
    "from sklearn import metrics\n",
    "# Model Accuracy\n",
    "print('Accuracy of Random Forest Classifier: %.3f' %(metrics.accuracy_score(y_test, y_pred)*100))"
   ]
  },
  {
   "cell_type": "code",
   "execution_count": null,
   "metadata": {},
   "outputs": [],
   "source": []
  },
  {
   "cell_type": "code",
   "execution_count": null,
   "metadata": {},
   "outputs": [],
   "source": []
  }
 ],
 "metadata": {
  "kernelspec": {
   "display_name": "Python 3",
   "language": "python",
   "name": "python3"
  },
  "language_info": {
   "codemirror_mode": {
    "name": "ipython",
    "version": 3
   },
   "file_extension": ".py",
   "mimetype": "text/x-python",
   "name": "python",
   "nbconvert_exporter": "python",
   "pygments_lexer": "ipython3",
   "version": "3.8.3"
  }
 },
 "nbformat": 4,
 "nbformat_minor": 4
}
